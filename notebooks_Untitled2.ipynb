{
  "metadata": {
    "language_info": {
      "codemirror_mode": {
        "name": "python",
        "version": 3
      },
      "file_extension": ".py",
      "mimetype": "text/x-python",
      "name": "python",
      "nbconvert_exporter": "python",
      "pygments_lexer": "ipython3",
      "version": "3.8"
    },
    "kernelspec": {
      "name": "python",
      "display_name": "Python (Pyodide)",
      "language": "python"
    }
  },
  "nbformat_minor": 4,
  "nbformat": 4,
  "cells": [
    {
      "cell_type": "code",
      "source": "rows = 5\nfor i in range(0, rows):\n    for j in range(0, i + 1):\n        print(\"*\", end=' ')\n    print(\"\\r\")\n\nfor i in range(rows, 0, -1):\n    for j in range(0, i - 1):\n        print(\"*\", end=' ')\n    print(\"\\r\")",
      "metadata": {
        "trusted": true
      },
      "execution_count": 4,
      "outputs": [
        {
          "name": "stdout",
          "text": "* \n* * \n* * * \n* * * * \n* * * * * \n* * * * \n* * * \n* * \n* \n\n",
          "output_type": "stream"
        }
      ]
    },
    {
      "cell_type": "code",
      "source": "my_list = [10, 20, 30, 40, 50, 60, 70, 80, 90, 100]\n# stat from index 1 with step 2( means 1, 3, 5, an so on)\nfor i in my_list[1::2]:\n    print(i, end=\" \")",
      "metadata": {
        "trusted": true
      },
      "execution_count": 5,
      "outputs": [
        {
          "name": "stdout",
          "text": "20 40 60 80 100 ",
          "output_type": "stream"
        }
      ]
    },
    {
      "cell_type": "code",
      "source": "x = [23,'Python', 23.98]\nn = []\nfor i in range(len(x)):\n    n.append(type(x[i]))\nprint(n)\nprint(x)",
      "metadata": {
        "trusted": true
      },
      "execution_count": 6,
      "outputs": [
        {
          "name": "stdout",
          "text": "[<class 'int'>, <class 'str'>, <class 'float'>]\n[23, 'Python', 23.98]\n",
          "output_type": "stream"
        }
      ]
    },
    {
      "cell_type": "code",
      "source": "def unique_list(l):\n  x = []\n  for a in l:\n    if a not in x:\n      x.append(a)\n  return x\n\nprint(unique_list([1,2,3,3,3,3,4,5]))",
      "metadata": {
        "trusted": true
      },
      "execution_count": 7,
      "outputs": [
        {
          "name": "stdout",
          "text": "[1, 2, 3, 4, 5]\n",
          "output_type": "stream"
        }
      ]
    },
    {
      "cell_type": "code",
      "source": "def string_test(s):\n    d={\"UPPER_CASE\":0, \"LOWER_CASE\":0}\n    for c in s:\n        if c.isupper():\n           d[\"UPPER_CASE\"]+=1\n        elif c.islower():\n           d[\"LOWER_CASE\"]+=1\n        else:\n           pass\n    print (\"Original String : \", s)\n    print (\"No. of Upper case characters : \", d[\"UPPER_CASE\"])\n    print (\"No. of Lower case Characters : \", d[\"LOWER_CASE\"])\n\nstring_test('The quick Brown Fox')",
      "metadata": {
        "trusted": true
      },
      "execution_count": 8,
      "outputs": [
        {
          "name": "stdout",
          "text": "Original String :  The quick Brown Fox\nNo. of Upper case characters :  3\nNo. of Lower case Characters :  13\n",
          "output_type": "stream"
        }
      ]
    },
    {
      "cell_type": "code",
      "source": "",
      "metadata": {},
      "execution_count": null,
      "outputs": []
    }
  ]
}